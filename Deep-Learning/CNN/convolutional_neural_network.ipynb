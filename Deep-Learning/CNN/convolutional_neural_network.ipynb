{
 "cells": [
  {
   "cell_type": "markdown",
   "metadata": {
    "id": "3DR-eO17geWu"
   },
   "source": [
    "# Convolutional Neural Network"
   ]
  },
  {
   "cell_type": "markdown",
   "metadata": {
    "id": "EMefrVPCg-60"
   },
   "source": [
    "### Importing the libraries"
   ]
  },
  {
   "cell_type": "code",
   "execution_count": 1,
   "metadata": {
    "id": "sCV30xyVhFbE"
   },
   "outputs": [],
   "source": [
    "import tensorflow as tf\n",
    "from keras.preprocessing.image import ImageDataGenerator"
   ]
  },
  {
   "cell_type": "markdown",
   "metadata": {
    "id": "oxQxCBWyoGPE"
   },
   "source": [
    "## Part 1 - Data Preprocessing"
   ]
  },
  {
   "cell_type": "markdown",
   "metadata": {
    "id": "MvE-heJNo3GG"
   },
   "source": [
    "### Preprocessing the Training set"
   ]
  },
  {
   "cell_type": "code",
   "execution_count": 2,
   "metadata": {
    "id": "0koUcJMJpEBD"
   },
   "outputs": [
    {
     "name": "stdout",
     "output_type": "stream",
     "text": [
      "Found 8000 images belonging to 2 classes.\n"
     ]
    }
   ],
   "source": [
    "# augmenting the images (rotating, zoom, flip...)\n",
    "train_datagen = ImageDataGenerator(\n",
    "                rescale = 1./255, # feature scaling applied to each pixel by dividing by 255 as each pixel can only take values from 0 to 255\n",
    "                shear_range = 0.2,\n",
    "                zoom_range=0.2,\n",
    "                horizontal_flip=True)\n",
    "\n",
    "train_set = train_datagen.flow_from_directory(\n",
    "            'dataset/training_set', #directory where training set is\n",
    "            target_size=(64, 64), # the size of requred image\n",
    "            batch_size=32,\n",
    "            class_mode='binary')# since outcome is binary (cat or dog), we use binary"
   ]
  },
  {
   "cell_type": "markdown",
   "metadata": {
    "id": "mrCMmGw9pHys"
   },
   "source": [
    "### Preprocessing the Test set"
   ]
  },
  {
   "cell_type": "code",
   "execution_count": 3,
   "metadata": {
    "id": "SH4WzfOhpKc3"
   },
   "outputs": [
    {
     "name": "stdout",
     "output_type": "stream",
     "text": [
      "Found 2000 images belonging to 2 classes.\n"
     ]
    }
   ],
   "source": [
    "test_datagen = ImageDataGenerator(rescale=1./255)# only feature scale the test set\n",
    "test_set = test_datagen.flow_from_directory(\n",
    "        'dataset/test_set',\n",
    "        target_size=(64, 64), # the size of required image\n",
    "        batch_size=32,\n",
    "        class_mode='binary')# since outcome is binary (cat or dog), we use binary"
   ]
  },
  {
   "cell_type": "markdown",
   "metadata": {
    "id": "af8O4l90gk7B"
   },
   "source": [
    "## Part 2 - Building the CNN"
   ]
  },
  {
   "cell_type": "markdown",
   "metadata": {
    "id": "ces1gXY2lmoX"
   },
   "source": [
    "### Initialising the CNN"
   ]
  },
  {
   "cell_type": "code",
   "execution_count": 4,
   "metadata": {
    "id": "SAUt4UMPlhLS"
   },
   "outputs": [],
   "source": [
    "cnn = tf.keras.models.Sequential()"
   ]
  },
  {
   "cell_type": "markdown",
   "metadata": {
    "id": "u5YJj_XMl5LF"
   },
   "source": [
    "### Step 1 - Convolution"
   ]
  },
  {
   "cell_type": "code",
   "execution_count": 5,
   "metadata": {
    "id": "XPzPrMckl-hV"
   },
   "outputs": [],
   "source": [
    "cnn.add(tf.keras.layers.Conv2D(filters = 32 #standard value \n",
    "                               , kernel_size = 3 # sqrt (Size of the filter), since we are using 3*3 filter, kernal = 3\n",
    "                               , activation = 'relu'\n",
    "                               , input_shape = [64,64,3]))# the desired size of image is 64*64 and 3 for RGB"
   ]
  },
  {
   "cell_type": "markdown",
   "metadata": {
    "id": "tf87FpvxmNOJ"
   },
   "source": [
    "### Step 2 - Pooling"
   ]
  },
  {
   "cell_type": "code",
   "execution_count": 6,
   "metadata": {
    "id": "ncpqPl69mOac"
   },
   "outputs": [],
   "source": [
    "cnn.add(tf.keras.layers.MaxPool2D(pool_size = 2 #size of the frame (pool), since it is 2*2 in our example, therefore 2\n",
    "                                 , strides = 2)) # the number of pixels to slide the pool by, in our example we are sliding it by 2"
   ]
  },
  {
   "cell_type": "markdown",
   "metadata": {
    "id": "xaTOgD8rm4mU"
   },
   "source": [
    "### Adding a second convolutional layer"
   ]
  },
  {
   "cell_type": "code",
   "execution_count": 7,
   "metadata": {
    "id": "i_-FZjn_m8gk"
   },
   "outputs": [],
   "source": [
    "cnn.add(tf.keras.layers.Conv2D(filters = 32, kernel_size = 3, activation = 'relu'))#input shape parameter is only needed for the first layer so as to connect the first layer to the input layer\n",
    "cnn.add(tf.keras.layers.MaxPool2D(pool_size = 2, strides = 2))"
   ]
  },
  {
   "cell_type": "markdown",
   "metadata": {
    "id": "tmiEuvTunKfk"
   },
   "source": [
    "### Step 3 - Flattening"
   ]
  },
  {
   "cell_type": "code",
   "execution_count": 8,
   "metadata": {
    "id": "6AZeOGCvnNZn"
   },
   "outputs": [],
   "source": [
    "cnn.add(tf.keras.layers.Flatten())"
   ]
  },
  {
   "cell_type": "markdown",
   "metadata": {
    "id": "dAoSECOm203v"
   },
   "source": [
    "### Step 4 - Full Connection"
   ]
  },
  {
   "cell_type": "code",
   "execution_count": 9,
   "metadata": {
    "id": "8GtmUlLd26Nq"
   },
   "outputs": [],
   "source": [
    "cnn.add(tf.keras.layers.Dense(units = 128 #number of hidden neurons (usually more for cnn\n",
    "                             , activation = 'relu'))"
   ]
  },
  {
   "cell_type": "markdown",
   "metadata": {
    "id": "yTldFvbX28Na"
   },
   "source": [
    "### Step 5 - Output Layer"
   ]
  },
  {
   "cell_type": "code",
   "execution_count": 10,
   "metadata": {
    "id": "1p_Zj1Mc3Ko_"
   },
   "outputs": [],
   "source": [
    "cnn.add(tf.keras.layers.Dense(units = 1 #binary classification (0 or 1 as cat or dog)\n",
    "                             , activation = 'sigmoid'))"
   ]
  },
  {
   "cell_type": "markdown",
   "metadata": {
    "id": "D6XkI90snSDl"
   },
   "source": [
    "## Part 3 - Training the CNN"
   ]
  },
  {
   "cell_type": "markdown",
   "metadata": {
    "id": "vfrFQACEnc6i"
   },
   "source": [
    "### Compiling the CNN"
   ]
  },
  {
   "cell_type": "code",
   "execution_count": 11,
   "metadata": {
    "id": "NALksrNQpUlJ"
   },
   "outputs": [],
   "source": [
    "cnn.compile(optimizer = 'adam', loss = 'binary_crossentropy', metrics = ['accuracy'])"
   ]
  },
  {
   "cell_type": "markdown",
   "metadata": {
    "id": "ehS-v3MIpX2h"
   },
   "source": [
    "### Training the CNN on the Training set and evaluating it on the Test set"
   ]
  },
  {
   "cell_type": "code",
   "execution_count": 12,
   "metadata": {
    "id": "XUj1W4PJptta",
    "scrolled": true
   },
   "outputs": [
    {
     "name": "stdout",
     "output_type": "stream",
     "text": [
      "Epoch 1/25\n",
      "250/250 [==============================] - 48s 188ms/step - loss: 0.6988 - accuracy: 0.5208 - val_loss: 0.6631 - val_accuracy: 0.5860\n",
      "Epoch 2/25\n",
      "250/250 [==============================] - 33s 131ms/step - loss: 0.6463 - accuracy: 0.6251 - val_loss: 0.6961 - val_accuracy: 0.5995\n",
      "Epoch 3/25\n",
      "250/250 [==============================] - 35s 138ms/step - loss: 0.5866 - accuracy: 0.6906 - val_loss: 0.5505 - val_accuracy: 0.7175\n",
      "Epoch 4/25\n",
      "250/250 [==============================] - 31s 125ms/step - loss: 0.5379 - accuracy: 0.7296 - val_loss: 0.5253 - val_accuracy: 0.7425\n",
      "Epoch 5/25\n",
      "250/250 [==============================] - 36s 143ms/step - loss: 0.5099 - accuracy: 0.7529 - val_loss: 0.4890 - val_accuracy: 0.7700\n",
      "Epoch 6/25\n",
      "250/250 [==============================] - 32s 130ms/step - loss: 0.4833 - accuracy: 0.7677 - val_loss: 0.5656 - val_accuracy: 0.7300\n",
      "Epoch 7/25\n",
      "250/250 [==============================] - 33s 134ms/step - loss: 0.4755 - accuracy: 0.7713 - val_loss: 0.4947 - val_accuracy: 0.7630\n",
      "Epoch 8/25\n",
      "250/250 [==============================] - 33s 132ms/step - loss: 0.4644 - accuracy: 0.7765 - val_loss: 0.4915 - val_accuracy: 0.7735\n",
      "Epoch 9/25\n",
      "250/250 [==============================] - 33s 132ms/step - loss: 0.4345 - accuracy: 0.7987 - val_loss: 0.4755 - val_accuracy: 0.7690\n",
      "Epoch 10/25\n",
      "250/250 [==============================] - 33s 131ms/step - loss: 0.4362 - accuracy: 0.7960 - val_loss: 0.4487 - val_accuracy: 0.7945\n",
      "Epoch 11/25\n",
      "250/250 [==============================] - 32s 128ms/step - loss: 0.4303 - accuracy: 0.7978 - val_loss: 0.4506 - val_accuracy: 0.7910\n",
      "Epoch 12/25\n",
      "250/250 [==============================] - 33s 131ms/step - loss: 0.4146 - accuracy: 0.8100 - val_loss: 0.4635 - val_accuracy: 0.7880\n",
      "Epoch 13/25\n",
      "250/250 [==============================] - 32s 129ms/step - loss: 0.3919 - accuracy: 0.8229 - val_loss: 0.4657 - val_accuracy: 0.7820\n",
      "Epoch 14/25\n",
      "250/250 [==============================] - 35s 142ms/step - loss: 0.4006 - accuracy: 0.8171 - val_loss: 0.4578 - val_accuracy: 0.7940\n",
      "Epoch 15/25\n",
      "250/250 [==============================] - 40s 160ms/step - loss: 0.3787 - accuracy: 0.8274 - val_loss: 0.4522 - val_accuracy: 0.7970\n",
      "Epoch 16/25\n",
      "250/250 [==============================] - 37s 147ms/step - loss: 0.3813 - accuracy: 0.8219 - val_loss: 0.4627 - val_accuracy: 0.7985\n",
      "Epoch 17/25\n",
      "250/250 [==============================] - 36s 145ms/step - loss: 0.3692 - accuracy: 0.8328 - val_loss: 0.4514 - val_accuracy: 0.8080\n",
      "Epoch 18/25\n",
      "250/250 [==============================] - 35s 139ms/step - loss: 0.3558 - accuracy: 0.8402 - val_loss: 0.4566 - val_accuracy: 0.8000\n",
      "Epoch 19/25\n",
      "250/250 [==============================] - 34s 134ms/step - loss: 0.3541 - accuracy: 0.8404 - val_loss: 0.4462 - val_accuracy: 0.8095\n",
      "Epoch 20/25\n",
      "250/250 [==============================] - 33s 131ms/step - loss: 0.3354 - accuracy: 0.8517 - val_loss: 0.4553 - val_accuracy: 0.8020\n",
      "Epoch 21/25\n",
      "250/250 [==============================] - 32s 126ms/step - loss: 0.3479 - accuracy: 0.8399 - val_loss: 0.4557 - val_accuracy: 0.8115\n",
      "Epoch 22/25\n",
      "250/250 [==============================] - 32s 129ms/step - loss: 0.3282 - accuracy: 0.8565 - val_loss: 0.4408 - val_accuracy: 0.8065\n",
      "Epoch 23/25\n",
      "250/250 [==============================] - 32s 128ms/step - loss: 0.3169 - accuracy: 0.8552 - val_loss: 0.4339 - val_accuracy: 0.8200\n",
      "Epoch 24/25\n",
      "250/250 [==============================] - 32s 128ms/step - loss: 0.3207 - accuracy: 0.8590 - val_loss: 0.4300 - val_accuracy: 0.8185\n",
      "Epoch 25/25\n",
      "250/250 [==============================] - 33s 131ms/step - loss: 0.3037 - accuracy: 0.8664 - val_loss: 0.4639 - val_accuracy: 0.7940\n"
     ]
    },
    {
     "data": {
      "text/plain": [
       "<tensorflow.python.keras.callbacks.History at 0x7fe5e06ecc40>"
      ]
     },
     "execution_count": 12,
     "metadata": {},
     "output_type": "execute_result"
    }
   ],
   "source": [
    "cnn.fit(x = train_set, validation_data = test_set, epochs = 25) #by trying different numbers"
   ]
  },
  {
   "cell_type": "markdown",
   "metadata": {
    "id": "U3PZasO0006Z"
   },
   "source": [
    "## Part 4 - Making a single prediction"
   ]
  },
  {
   "cell_type": "code",
   "execution_count": 47,
   "metadata": {
    "id": "gsSiWEJY1BPB"
   },
   "outputs": [],
   "source": [
    "import numpy as np\n",
    "from keras.preprocessing import image\n",
    "test_image = image.load_img('dataset/single_prediction/cat_or_dog_1.jpg', target_size = (64, 64))\n",
    "test_image = image.img_to_array(test_image)# convert the image from pil format to a numpy array\n",
    "\n",
    "#since we used batch size = 32, it means first 32 images were used and then the next 32 and so onn..\n",
    "#since batch size adds another dimention to the cnn, we have to add the dimention for the test image too\n",
    "\n",
    "test_image = np.expand_dims(test_image, axis = 0)# to make the dimension of the batch we are adding as the first dimension"
   ]
  },
  {
   "cell_type": "code",
   "execution_count": 48,
   "metadata": {
    "id": "ED9KB3I54c1i"
   },
   "outputs": [],
   "source": [
    "result = cnn.predict(test_image / 255.0) # normalizing the images\n",
    "# finding if 0 or 1 corresponds to either cat or dog\n",
    "train_set.class_indices\n",
    "if result[0][0] > 0.5: #accessing the batch and then accessing the first element of the batch # 0.5 cause if we put 1 and get 0.8, it will say cat but in this case abve 0.5, it will always be dog\n",
    "    prediction = 'dog'\n",
    "else:\n",
    "    prediction = 'cat'"
   ]
  },
  {
   "cell_type": "code",
   "execution_count": 49,
   "metadata": {},
   "outputs": [
    {
     "name": "stdout",
     "output_type": "stream",
     "text": [
      "dog\n"
     ]
    }
   ],
   "source": [
    "print(prediction)"
   ]
  },
  {
   "cell_type": "code",
   "execution_count": null,
   "metadata": {},
   "outputs": [],
   "source": []
  }
 ],
 "metadata": {
  "colab": {
   "collapsed_sections": [],
   "name": "convolutional_neural_network.ipynb",
   "provenance": [],
   "toc_visible": true
  },
  "kernelspec": {
   "display_name": "Python 3",
   "language": "python",
   "name": "python3"
  },
  "language_info": {
   "codemirror_mode": {
    "name": "ipython",
    "version": 3
   },
   "file_extension": ".py",
   "mimetype": "text/x-python",
   "name": "python",
   "nbconvert_exporter": "python",
   "pygments_lexer": "ipython3",
   "version": "3.8.10"
  }
 },
 "nbformat": 4,
 "nbformat_minor": 1
}
